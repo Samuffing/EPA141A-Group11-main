{
 "cells": [
  {
   "cell_type": "code",
   "execution_count": 1,
   "metadata": {
    "ExecuteTime": {
     "end_time": "2024-06-21T12:52:00.209670500Z",
     "start_time": "2024-06-21T12:51:59.725872800Z"
    }
   },
   "outputs": [],
   "source": [
    "import numpy as np\n",
    "import scipy as sp\n",
    "import pandas as pd\n",
    "import matplotlib.pyplot as plt\n",
    "import seaborn as sns\n",
    "import networkx as nx"
   ]
  },
  {
   "cell_type": "code",
   "execution_count": 2,
   "metadata": {
    "scrolled": true,
    "ExecuteTime": {
     "end_time": "2024-06-21T12:52:02.692634Z",
     "start_time": "2024-06-21T12:52:00.212764400Z"
    }
   },
   "outputs": [],
   "source": [
    "from ema_workbench import (\n",
    "    Model,\n",
    "    Policy,\n",
    "    ema_logging,\n",
    "    SequentialEvaluator,\n",
    "    MultiprocessingEvaluator,\n",
    ")\n",
    "from dike_model_function import DikeNetwork  # @UnresolvedImport\n",
    "from problem_formulation import get_model_for_problem_formulation, sum_over, sum_over_time\n",
    "\n"
   ]
  },
  {
   "cell_type": "code",
   "execution_count": 3,
   "metadata": {
    "ExecuteTime": {
     "end_time": "2024-06-21T12:52:03.527500300Z",
     "start_time": "2024-06-21T12:52:02.696892500Z"
    }
   },
   "outputs": [
    {
     "name": "stderr",
     "output_type": "stream",
     "text": [
      "INFO:dike_model_function:Model initialized\n"
     ]
    }
   ],
   "source": [
    "ema_logging.log_to_stderr(ema_logging.INFO)\n",
    "\n",
    "# choose problem formulation number, between 0-5\n",
    "# each problem formulation has its own list of outcomes\n",
    "dike_model, planning_steps = get_model_for_problem_formulation(3)"
   ]
  },
  {
   "cell_type": "code",
   "execution_count": 4,
   "metadata": {
    "ExecuteTime": {
     "end_time": "2024-06-21T12:52:03.571003200Z",
     "start_time": "2024-06-21T12:52:03.529494100Z"
    }
   },
   "outputs": [
    {
     "name": "stdout",
     "output_type": "stream",
     "text": [
      "CategoricalParameter('discount rate 0', [0, 1, 2, 3])\n",
      "CategoricalParameter('discount rate 1', [0, 1, 2, 3])\n",
      "CategoricalParameter('discount rate 2', [0, 1, 2, 3])\n",
      "IntegerParameter('A.0_ID flood wave shape', 0, 132, resolution=None, default=None, variable_name=['A.0_ID flood wave shape'], pff=False)\n",
      "RealParameter('A.1_Bmax', 30, 350, resolution=None, default=None, variable_name=['A.1_Bmax'], pff=False)\n",
      "RealParameter('A.1_pfail', 0, 1, resolution=None, default=None, variable_name=['A.1_pfail'], pff=False)\n",
      "CategoricalParameter('A.1_Brate', [0, 1, 2])\n",
      "RealParameter('A.2_Bmax', 30, 350, resolution=None, default=None, variable_name=['A.2_Bmax'], pff=False)\n",
      "RealParameter('A.2_pfail', 0, 1, resolution=None, default=None, variable_name=['A.2_pfail'], pff=False)\n",
      "CategoricalParameter('A.2_Brate', [0, 1, 2])\n",
      "RealParameter('A.3_Bmax', 30, 350, resolution=None, default=None, variable_name=['A.3_Bmax'], pff=False)\n",
      "RealParameter('A.3_pfail', 0, 1, resolution=None, default=None, variable_name=['A.3_pfail'], pff=False)\n",
      "CategoricalParameter('A.3_Brate', [0, 1, 2])\n",
      "RealParameter('A.4_Bmax', 30, 350, resolution=None, default=None, variable_name=['A.4_Bmax'], pff=False)\n",
      "RealParameter('A.4_pfail', 0, 1, resolution=None, default=None, variable_name=['A.4_pfail'], pff=False)\n",
      "CategoricalParameter('A.4_Brate', [0, 1, 2])\n",
      "RealParameter('A.5_Bmax', 30, 350, resolution=None, default=None, variable_name=['A.5_Bmax'], pff=False)\n",
      "RealParameter('A.5_pfail', 0, 1, resolution=None, default=None, variable_name=['A.5_pfail'], pff=False)\n",
      "CategoricalParameter('A.5_Brate', [0, 1, 2])\n"
     ]
    }
   ],
   "source": [
    "# enlisting uncertainties, their types (RealParameter/IntegerParameter/CategoricalParameter), lower boundary, and upper boundary\n",
    "import copy\n",
    "\n",
    "for unc in dike_model.uncertainties:\n",
    "    print(repr(unc))\n",
    "\n",
    "uncertainties = copy.deepcopy(dike_model.uncertainties)"
   ]
  },
  {
   "cell_type": "code",
   "execution_count": 5,
   "metadata": {
    "ExecuteTime": {
     "end_time": "2024-06-21T12:52:03.573307Z",
     "start_time": "2024-06-21T12:52:03.553257800Z"
    }
   },
   "outputs": [
    {
     "name": "stdout",
     "output_type": "stream",
     "text": [
      "IntegerParameter('0_RfR 0', 0, 1, resolution=None, default=None, variable_name=['0_RfR 0'], pff=False)\n",
      "IntegerParameter('0_RfR 1', 0, 1, resolution=None, default=None, variable_name=['0_RfR 1'], pff=False)\n",
      "IntegerParameter('0_RfR 2', 0, 1, resolution=None, default=None, variable_name=['0_RfR 2'], pff=False)\n",
      "IntegerParameter('1_RfR 0', 0, 1, resolution=None, default=None, variable_name=['1_RfR 0'], pff=False)\n",
      "IntegerParameter('1_RfR 1', 0, 1, resolution=None, default=None, variable_name=['1_RfR 1'], pff=False)\n",
      "IntegerParameter('1_RfR 2', 0, 1, resolution=None, default=None, variable_name=['1_RfR 2'], pff=False)\n",
      "IntegerParameter('2_RfR 0', 0, 1, resolution=None, default=None, variable_name=['2_RfR 0'], pff=False)\n",
      "IntegerParameter('2_RfR 1', 0, 1, resolution=None, default=None, variable_name=['2_RfR 1'], pff=False)\n",
      "IntegerParameter('2_RfR 2', 0, 1, resolution=None, default=None, variable_name=['2_RfR 2'], pff=False)\n",
      "IntegerParameter('3_RfR 0', 0, 1, resolution=None, default=None, variable_name=['3_RfR 0'], pff=False)\n",
      "IntegerParameter('3_RfR 1', 0, 1, resolution=None, default=None, variable_name=['3_RfR 1'], pff=False)\n",
      "IntegerParameter('3_RfR 2', 0, 1, resolution=None, default=None, variable_name=['3_RfR 2'], pff=False)\n",
      "IntegerParameter('4_RfR 0', 0, 1, resolution=None, default=None, variable_name=['4_RfR 0'], pff=False)\n",
      "IntegerParameter('4_RfR 1', 0, 1, resolution=None, default=None, variable_name=['4_RfR 1'], pff=False)\n",
      "IntegerParameter('4_RfR 2', 0, 1, resolution=None, default=None, variable_name=['4_RfR 2'], pff=False)\n",
      "IntegerParameter('EWS_DaysToThreat', 0, 4, resolution=None, default=None, variable_name=['EWS_DaysToThreat'], pff=False)\n",
      "IntegerParameter('A.1_DikeIncrease 0', 0, 10, resolution=None, default=None, variable_name=['A.1_DikeIncrease 0'], pff=False)\n",
      "IntegerParameter('A.1_DikeIncrease 1', 0, 10, resolution=None, default=None, variable_name=['A.1_DikeIncrease 1'], pff=False)\n",
      "IntegerParameter('A.1_DikeIncrease 2', 0, 10, resolution=None, default=None, variable_name=['A.1_DikeIncrease 2'], pff=False)\n",
      "IntegerParameter('A.2_DikeIncrease 0', 0, 10, resolution=None, default=None, variable_name=['A.2_DikeIncrease 0'], pff=False)\n",
      "IntegerParameter('A.2_DikeIncrease 1', 0, 10, resolution=None, default=None, variable_name=['A.2_DikeIncrease 1'], pff=False)\n",
      "IntegerParameter('A.2_DikeIncrease 2', 0, 10, resolution=None, default=None, variable_name=['A.2_DikeIncrease 2'], pff=False)\n",
      "IntegerParameter('A.3_DikeIncrease 0', 0, 10, resolution=None, default=None, variable_name=['A.3_DikeIncrease 0'], pff=False)\n",
      "IntegerParameter('A.3_DikeIncrease 1', 0, 10, resolution=None, default=None, variable_name=['A.3_DikeIncrease 1'], pff=False)\n",
      "IntegerParameter('A.3_DikeIncrease 2', 0, 10, resolution=None, default=None, variable_name=['A.3_DikeIncrease 2'], pff=False)\n",
      "IntegerParameter('A.4_DikeIncrease 0', 0, 10, resolution=None, default=None, variable_name=['A.4_DikeIncrease 0'], pff=False)\n",
      "IntegerParameter('A.4_DikeIncrease 1', 0, 10, resolution=None, default=None, variable_name=['A.4_DikeIncrease 1'], pff=False)\n",
      "IntegerParameter('A.4_DikeIncrease 2', 0, 10, resolution=None, default=None, variable_name=['A.4_DikeIncrease 2'], pff=False)\n",
      "IntegerParameter('A.5_DikeIncrease 0', 0, 10, resolution=None, default=None, variable_name=['A.5_DikeIncrease 0'], pff=False)\n",
      "IntegerParameter('A.5_DikeIncrease 1', 0, 10, resolution=None, default=None, variable_name=['A.5_DikeIncrease 1'], pff=False)\n",
      "IntegerParameter('A.5_DikeIncrease 2', 0, 10, resolution=None, default=None, variable_name=['A.5_DikeIncrease 2'], pff=False)\n"
     ]
    }
   ],
   "source": [
    "# enlisting policy levers, their types (RealParameter/IntegerParameter), lower boundary, and upper boundary\n",
    "for policy in dike_model.levers:\n",
    "    print(repr(policy))\n",
    "\n",
    "levers = copy.deepcopy(dike_model.levers)"
   ]
  },
  {
   "cell_type": "code",
   "execution_count": 6,
   "metadata": {
    "ExecuteTime": {
     "end_time": "2024-06-21T12:52:03.650715900Z",
     "start_time": "2024-06-21T12:52:03.581330200Z"
    }
   },
   "outputs": [
    {
     "name": "stdout",
     "output_type": "stream",
     "text": [
      "ScalarOutcome('A.1_Expected Annual Damage', variable_name=('A.1_Expected Annual Damage',), function=<function sum_over at 0x000001B5F42E87C0>)\n",
      "ScalarOutcome('A.1_Dike Investment Costs', variable_name=('A.1_Dike Investment Costs',), function=<function sum_over at 0x000001B5F42E87C0>)\n",
      "ScalarOutcome('A.1_Expected Number of Deaths', variable_name=('A.1_Expected Number of Deaths',), function=<function sum_over at 0x000001B5F42E87C0>)\n",
      "ScalarOutcome('A.2_Expected Annual Damage', variable_name=('A.2_Expected Annual Damage',), function=<function sum_over at 0x000001B5F42E87C0>)\n",
      "ScalarOutcome('A.2_Dike Investment Costs', variable_name=('A.2_Dike Investment Costs',), function=<function sum_over at 0x000001B5F42E87C0>)\n",
      "ScalarOutcome('A.2_Expected Number of Deaths', variable_name=('A.2_Expected Number of Deaths',), function=<function sum_over at 0x000001B5F42E87C0>)\n",
      "ScalarOutcome('A.3_Expected Annual Damage', variable_name=('A.3_Expected Annual Damage',), function=<function sum_over at 0x000001B5F42E87C0>)\n",
      "ScalarOutcome('A.3_Dike Investment Costs', variable_name=('A.3_Dike Investment Costs',), function=<function sum_over at 0x000001B5F42E87C0>)\n",
      "ScalarOutcome('A.3_Expected Number of Deaths', variable_name=('A.3_Expected Number of Deaths',), function=<function sum_over at 0x000001B5F42E87C0>)\n",
      "ScalarOutcome('A.4_Expected Annual Damage', variable_name=('A.4_Expected Annual Damage',), function=<function sum_over at 0x000001B5F42E87C0>)\n",
      "ScalarOutcome('A.4_Dike Investment Costs', variable_name=('A.4_Dike Investment Costs',), function=<function sum_over at 0x000001B5F42E87C0>)\n",
      "ScalarOutcome('A.4_Expected Number of Deaths', variable_name=('A.4_Expected Number of Deaths',), function=<function sum_over at 0x000001B5F42E87C0>)\n",
      "ScalarOutcome('A.5_Expected Annual Damage', variable_name=('A.5_Expected Annual Damage',), function=<function sum_over at 0x000001B5F42E87C0>)\n",
      "ScalarOutcome('A.5_Dike Investment Costs', variable_name=('A.5_Dike Investment Costs',), function=<function sum_over at 0x000001B5F42E87C0>)\n",
      "ScalarOutcome('A.5_Expected Number of Deaths', variable_name=('A.5_Expected Number of Deaths',), function=<function sum_over at 0x000001B5F42E87C0>)\n",
      "ScalarOutcome('RfR Total Costs', variable_name=('RfR Total Costs',), function=<function sum_over at 0x000001B5F42E87C0>)\n",
      "ScalarOutcome('Expected Evacuation Costs', variable_name=('Expected Evacuation Costs',), function=<function sum_over at 0x000001B5F42E87C0>)\n"
     ]
    }
   ],
   "source": [
    "# enlisting outcomes\n",
    "for outcome in dike_model.outcomes:\n",
    "    print(repr(outcome))"
   ]
  },
  {
   "cell_type": "code",
   "execution_count": 7,
   "metadata": {
    "ExecuteTime": {
     "end_time": "2024-06-21T12:53:43.569074400Z",
     "start_time": "2024-06-21T12:52:03.590467100Z"
    }
   },
   "outputs": [
    {
     "name": "stderr",
     "output_type": "stream",
     "text": [
      "[MainProcess/INFO] pool started with 12 workers\n",
      "[MainProcess/INFO] performing 50 scenarios * 4 policies * 1 model(s) = 200 experiments\n",
      "100%|████████████████████████████████████████| 200/200 [00:49<00:00,  4.02it/s]\n",
      "[MainProcess/INFO] experiments finished\n",
      "[MainProcess/INFO] terminating pool\n"
     ]
    }
   ],
   "source": [
    "# running the model through EMA workbench\n",
    "with MultiprocessingEvaluator(dike_model) as evaluator:\n",
    "    results = evaluator.perform_experiments(scenarios=50, policies=4)"
   ]
  },
  {
   "cell_type": "code",
   "execution_count": 8,
   "metadata": {
    "scrolled": true,
    "ExecuteTime": {
     "end_time": "2024-06-21T12:53:43.636618400Z",
     "start_time": "2024-06-21T12:53:43.573258700Z"
    }
   },
   "outputs": [
    {
     "name": "stdout",
     "output_type": "stream",
     "text": [
      "dict_keys(['A.1_Expected Annual Damage', 'A.1_Dike Investment Costs', 'A.1_Expected Number of Deaths', 'A.2_Expected Annual Damage', 'A.2_Dike Investment Costs', 'A.2_Expected Number of Deaths', 'A.3_Expected Annual Damage', 'A.3_Dike Investment Costs', 'A.3_Expected Number of Deaths', 'A.4_Expected Annual Damage', 'A.4_Dike Investment Costs', 'A.4_Expected Number of Deaths', 'A.5_Expected Annual Damage', 'A.5_Dike Investment Costs', 'A.5_Expected Number of Deaths', 'RfR Total Costs', 'Expected Evacuation Costs'])\n"
     ]
    },
    {
     "data": {
      "text/plain": "     A.0_ID flood wave shape    A.1_Bmax A.1_Brate  A.1_pfail    A.2_Bmax  \\\n0                         16  180.255945       1.0   0.512367  101.861630   \n1                         56  339.445621       1.0   0.473625  267.564511   \n2                        109  190.037326       1.0   0.722407  111.909459   \n3                        106  142.967901       1.5   0.548102  343.552560   \n4                         67  249.510784       1.5   0.182277  207.307811   \n..                       ...         ...       ...        ...         ...   \n195                       32  329.644799      10.0   0.176948   52.710578   \n196                      119  313.300627       1.0   0.709996  276.342482   \n197                       13  244.454219       1.5   0.265420  187.772584   \n198                       78   65.730297      10.0   0.873867   82.190990   \n199                      101  219.746180       1.5   0.088479  141.449996   \n\n    A.2_Brate  A.2_pfail    A.3_Bmax A.3_Brate  A.3_pfail  ...  \\\n0         1.5   0.286267  239.449648       1.5   0.444359  ...   \n1         1.5   0.967529   43.926838       1.5   0.546466  ...   \n2        10.0   0.610641  274.355915      10.0   0.294931  ...   \n3        10.0   0.331847  257.360907       1.5   0.183314  ...   \n4         1.0   0.499302  316.841440       1.0   0.951192  ...   \n..        ...        ...         ...       ...        ...  ...   \n195       1.0   0.365770  127.698465      10.0   0.734079  ...   \n196      10.0   0.639199  198.505601       1.0   0.223891  ...   \n197       1.0   0.097159   57.399175       1.0   0.688605  ...   \n198       1.5   0.504371  304.962584      10.0   0.274709  ...   \n199       1.0   0.827195  146.817358       1.0   0.641986  ...   \n\n     A.4_DikeIncrease 0 A.4_DikeIncrease 1  A.4_DikeIncrease 2  \\\n0                     3                  5                   3   \n1                     3                  5                   3   \n2                     3                  5                   3   \n3                     3                  5                   3   \n4                     3                  5                   3   \n..                  ...                ...                 ...   \n195                   0                  1                   9   \n196                   0                  1                   9   \n197                   0                  1                   9   \n198                   0                  1                   9   \n199                   0                  1                   9   \n\n     A.5_DikeIncrease 0 A.5_DikeIncrease 1  A.5_DikeIncrease 2  \\\n0                     6                  1                   9   \n1                     6                  1                   9   \n2                     6                  1                   9   \n3                     6                  1                   9   \n4                     6                  1                   9   \n..                  ...                ...                 ...   \n195                   4                  7                   2   \n196                   4                  7                   2   \n197                   4                  7                   2   \n198                   4                  7                   2   \n199                   4                  7                   2   \n\n    EWS_DaysToThreat scenario policy     model  \n0                  4        4      0  dikesnet  \n1                  4        5      0  dikesnet  \n2                  4        6      0  dikesnet  \n3                  4        7      0  dikesnet  \n4                  4        8      0  dikesnet  \n..               ...      ...    ...       ...  \n195                0       49      3  dikesnet  \n196                0       50      3  dikesnet  \n197                0       51      3  dikesnet  \n198                0       52      3  dikesnet  \n199                0       53      3  dikesnet  \n\n[200 rows x 53 columns]",
      "text/html": "<div>\n<style scoped>\n    .dataframe tbody tr th:only-of-type {\n        vertical-align: middle;\n    }\n\n    .dataframe tbody tr th {\n        vertical-align: top;\n    }\n\n    .dataframe thead th {\n        text-align: right;\n    }\n</style>\n<table border=\"1\" class=\"dataframe\">\n  <thead>\n    <tr style=\"text-align: right;\">\n      <th></th>\n      <th>A.0_ID flood wave shape</th>\n      <th>A.1_Bmax</th>\n      <th>A.1_Brate</th>\n      <th>A.1_pfail</th>\n      <th>A.2_Bmax</th>\n      <th>A.2_Brate</th>\n      <th>A.2_pfail</th>\n      <th>A.3_Bmax</th>\n      <th>A.3_Brate</th>\n      <th>A.3_pfail</th>\n      <th>...</th>\n      <th>A.4_DikeIncrease 0</th>\n      <th>A.4_DikeIncrease 1</th>\n      <th>A.4_DikeIncrease 2</th>\n      <th>A.5_DikeIncrease 0</th>\n      <th>A.5_DikeIncrease 1</th>\n      <th>A.5_DikeIncrease 2</th>\n      <th>EWS_DaysToThreat</th>\n      <th>scenario</th>\n      <th>policy</th>\n      <th>model</th>\n    </tr>\n  </thead>\n  <tbody>\n    <tr>\n      <th>0</th>\n      <td>16</td>\n      <td>180.255945</td>\n      <td>1.0</td>\n      <td>0.512367</td>\n      <td>101.861630</td>\n      <td>1.5</td>\n      <td>0.286267</td>\n      <td>239.449648</td>\n      <td>1.5</td>\n      <td>0.444359</td>\n      <td>...</td>\n      <td>3</td>\n      <td>5</td>\n      <td>3</td>\n      <td>6</td>\n      <td>1</td>\n      <td>9</td>\n      <td>4</td>\n      <td>4</td>\n      <td>0</td>\n      <td>dikesnet</td>\n    </tr>\n    <tr>\n      <th>1</th>\n      <td>56</td>\n      <td>339.445621</td>\n      <td>1.0</td>\n      <td>0.473625</td>\n      <td>267.564511</td>\n      <td>1.5</td>\n      <td>0.967529</td>\n      <td>43.926838</td>\n      <td>1.5</td>\n      <td>0.546466</td>\n      <td>...</td>\n      <td>3</td>\n      <td>5</td>\n      <td>3</td>\n      <td>6</td>\n      <td>1</td>\n      <td>9</td>\n      <td>4</td>\n      <td>5</td>\n      <td>0</td>\n      <td>dikesnet</td>\n    </tr>\n    <tr>\n      <th>2</th>\n      <td>109</td>\n      <td>190.037326</td>\n      <td>1.0</td>\n      <td>0.722407</td>\n      <td>111.909459</td>\n      <td>10.0</td>\n      <td>0.610641</td>\n      <td>274.355915</td>\n      <td>10.0</td>\n      <td>0.294931</td>\n      <td>...</td>\n      <td>3</td>\n      <td>5</td>\n      <td>3</td>\n      <td>6</td>\n      <td>1</td>\n      <td>9</td>\n      <td>4</td>\n      <td>6</td>\n      <td>0</td>\n      <td>dikesnet</td>\n    </tr>\n    <tr>\n      <th>3</th>\n      <td>106</td>\n      <td>142.967901</td>\n      <td>1.5</td>\n      <td>0.548102</td>\n      <td>343.552560</td>\n      <td>10.0</td>\n      <td>0.331847</td>\n      <td>257.360907</td>\n      <td>1.5</td>\n      <td>0.183314</td>\n      <td>...</td>\n      <td>3</td>\n      <td>5</td>\n      <td>3</td>\n      <td>6</td>\n      <td>1</td>\n      <td>9</td>\n      <td>4</td>\n      <td>7</td>\n      <td>0</td>\n      <td>dikesnet</td>\n    </tr>\n    <tr>\n      <th>4</th>\n      <td>67</td>\n      <td>249.510784</td>\n      <td>1.5</td>\n      <td>0.182277</td>\n      <td>207.307811</td>\n      <td>1.0</td>\n      <td>0.499302</td>\n      <td>316.841440</td>\n      <td>1.0</td>\n      <td>0.951192</td>\n      <td>...</td>\n      <td>3</td>\n      <td>5</td>\n      <td>3</td>\n      <td>6</td>\n      <td>1</td>\n      <td>9</td>\n      <td>4</td>\n      <td>8</td>\n      <td>0</td>\n      <td>dikesnet</td>\n    </tr>\n    <tr>\n      <th>...</th>\n      <td>...</td>\n      <td>...</td>\n      <td>...</td>\n      <td>...</td>\n      <td>...</td>\n      <td>...</td>\n      <td>...</td>\n      <td>...</td>\n      <td>...</td>\n      <td>...</td>\n      <td>...</td>\n      <td>...</td>\n      <td>...</td>\n      <td>...</td>\n      <td>...</td>\n      <td>...</td>\n      <td>...</td>\n      <td>...</td>\n      <td>...</td>\n      <td>...</td>\n      <td>...</td>\n    </tr>\n    <tr>\n      <th>195</th>\n      <td>32</td>\n      <td>329.644799</td>\n      <td>10.0</td>\n      <td>0.176948</td>\n      <td>52.710578</td>\n      <td>1.0</td>\n      <td>0.365770</td>\n      <td>127.698465</td>\n      <td>10.0</td>\n      <td>0.734079</td>\n      <td>...</td>\n      <td>0</td>\n      <td>1</td>\n      <td>9</td>\n      <td>4</td>\n      <td>7</td>\n      <td>2</td>\n      <td>0</td>\n      <td>49</td>\n      <td>3</td>\n      <td>dikesnet</td>\n    </tr>\n    <tr>\n      <th>196</th>\n      <td>119</td>\n      <td>313.300627</td>\n      <td>1.0</td>\n      <td>0.709996</td>\n      <td>276.342482</td>\n      <td>10.0</td>\n      <td>0.639199</td>\n      <td>198.505601</td>\n      <td>1.0</td>\n      <td>0.223891</td>\n      <td>...</td>\n      <td>0</td>\n      <td>1</td>\n      <td>9</td>\n      <td>4</td>\n      <td>7</td>\n      <td>2</td>\n      <td>0</td>\n      <td>50</td>\n      <td>3</td>\n      <td>dikesnet</td>\n    </tr>\n    <tr>\n      <th>197</th>\n      <td>13</td>\n      <td>244.454219</td>\n      <td>1.5</td>\n      <td>0.265420</td>\n      <td>187.772584</td>\n      <td>1.0</td>\n      <td>0.097159</td>\n      <td>57.399175</td>\n      <td>1.0</td>\n      <td>0.688605</td>\n      <td>...</td>\n      <td>0</td>\n      <td>1</td>\n      <td>9</td>\n      <td>4</td>\n      <td>7</td>\n      <td>2</td>\n      <td>0</td>\n      <td>51</td>\n      <td>3</td>\n      <td>dikesnet</td>\n    </tr>\n    <tr>\n      <th>198</th>\n      <td>78</td>\n      <td>65.730297</td>\n      <td>10.0</td>\n      <td>0.873867</td>\n      <td>82.190990</td>\n      <td>1.5</td>\n      <td>0.504371</td>\n      <td>304.962584</td>\n      <td>10.0</td>\n      <td>0.274709</td>\n      <td>...</td>\n      <td>0</td>\n      <td>1</td>\n      <td>9</td>\n      <td>4</td>\n      <td>7</td>\n      <td>2</td>\n      <td>0</td>\n      <td>52</td>\n      <td>3</td>\n      <td>dikesnet</td>\n    </tr>\n    <tr>\n      <th>199</th>\n      <td>101</td>\n      <td>219.746180</td>\n      <td>1.5</td>\n      <td>0.088479</td>\n      <td>141.449996</td>\n      <td>1.0</td>\n      <td>0.827195</td>\n      <td>146.817358</td>\n      <td>1.0</td>\n      <td>0.641986</td>\n      <td>...</td>\n      <td>0</td>\n      <td>1</td>\n      <td>9</td>\n      <td>4</td>\n      <td>7</td>\n      <td>2</td>\n      <td>0</td>\n      <td>53</td>\n      <td>3</td>\n      <td>dikesnet</td>\n    </tr>\n  </tbody>\n</table>\n<p>200 rows × 53 columns</p>\n</div>"
     },
     "execution_count": 8,
     "metadata": {},
     "output_type": "execute_result"
    }
   ],
   "source": [
    "# observing the simulation runs\n",
    "experiments, outcomes = results\n",
    "print(outcomes.keys())\n",
    "experiments"
   ]
  },
  {
   "cell_type": "code",
   "execution_count": 9,
   "metadata": {
    "ExecuteTime": {
     "end_time": "2024-06-21T12:53:43.701509400Z",
     "start_time": "2024-06-21T12:53:43.673713600Z"
    }
   },
   "outputs": [
    {
     "data": {
      "text/plain": "     A.1_Expected Annual Damage  A.1_Dike Investment Costs  \\\n0                           0.0               2.493124e+08   \n1                           0.0               2.493124e+08   \n2                           0.0               2.493124e+08   \n3                           0.0               2.493124e+08   \n4                           0.0               2.493124e+08   \n..                          ...                        ...   \n195                         0.0               2.621674e+08   \n196                         0.0               2.621674e+08   \n197                         0.0               2.621674e+08   \n198                         0.0               2.621674e+08   \n199                         0.0               2.621674e+08   \n\n     A.1_Expected Number of Deaths  A.2_Expected Annual Damage  \\\n0                              0.0                0.000000e+00   \n1                              0.0                0.000000e+00   \n2                              0.0                0.000000e+00   \n3                              0.0                0.000000e+00   \n4                              0.0                0.000000e+00   \n..                             ...                         ...   \n195                            0.0                0.000000e+00   \n196                            0.0                0.000000e+00   \n197                            0.0                2.809947e+06   \n198                            0.0                0.000000e+00   \n199                            0.0                0.000000e+00   \n\n     A.2_Dike Investment Costs  A.2_Expected Number of Deaths  \\\n0                 3.603055e+08                       0.000000   \n1                 3.603055e+08                       0.000000   \n2                 3.603055e+08                       0.000000   \n3                 3.603055e+08                       0.000000   \n4                 3.603055e+08                       0.000000   \n..                         ...                            ...   \n195               1.296885e+08                       0.000000   \n196               1.296885e+08                       0.000000   \n197               1.296885e+08                       0.002625   \n198               1.296885e+08                       0.000000   \n199               1.296885e+08                       0.000000   \n\n     A.3_Expected Annual Damage  A.3_Dike Investment Costs  \\\n0                           0.0               8.116230e+07   \n1                           0.0               8.116230e+07   \n2                           0.0               8.116230e+07   \n3                           0.0               8.116230e+07   \n4                           0.0               8.116230e+07   \n..                          ...                        ...   \n195                         0.0               1.087736e+08   \n196                         0.0               1.087736e+08   \n197                         0.0               1.087736e+08   \n198                         0.0               1.087736e+08   \n199                         0.0               1.087736e+08   \n\n     A.3_Expected Number of Deaths  A.4_Expected Annual Damage  \\\n0                              0.0                2.353105e+06   \n1                              0.0                5.301770e+05   \n2                              0.0                0.000000e+00   \n3                              0.0                0.000000e+00   \n4                              0.0                1.636771e+07   \n..                             ...                         ...   \n195                            0.0                2.044269e+06   \n196                            0.0                2.400314e+07   \n197                            0.0                1.503912e+05   \n198                            0.0                2.703251e+06   \n199                            0.0                5.247045e+06   \n\n     A.4_Dike Investment Costs  A.4_Expected Number of Deaths  \\\n0                 3.175647e+07                       0.000210   \n1                 3.175647e+07                       0.000052   \n2                 3.175647e+07                       0.000000   \n3                 3.175647e+07                       0.000000   \n4                 3.175647e+07                       0.000662   \n..                         ...                            ...   \n195               2.508488e+07                       0.001317   \n196               2.508488e+07                       0.011196   \n197               2.508488e+07                       0.000069   \n198               2.508488e+07                       0.001038   \n199               2.508488e+07                       0.002495   \n\n     A.5_Expected Annual Damage  A.5_Dike Investment Costs  \\\n0                  0.000000e+00               1.381010e+08   \n1                  0.000000e+00               1.381010e+08   \n2                  0.000000e+00               1.381010e+08   \n3                  0.000000e+00               1.381010e+08   \n4                  0.000000e+00               1.381010e+08   \n..                          ...                        ...   \n195                2.349402e+08               1.238379e+08   \n196                0.000000e+00               1.238379e+08   \n197                0.000000e+00               1.238379e+08   \n198                3.640854e+07               1.238379e+08   \n199                0.000000e+00               1.238379e+08   \n\n     A.5_Expected Number of Deaths  RfR Total Costs  Expected Evacuation Costs  \n0                         0.000000     5.831000e+08                 290.717863  \n1                         0.000000     5.831000e+08                  60.891236  \n2                         0.000000     5.831000e+08                   0.000000  \n3                         0.000000     5.831000e+08                   0.000000  \n4                         0.000000     5.831000e+08                1081.333087  \n..                             ...              ...                        ...  \n195                       0.283046     1.604300e+09                   0.000000  \n196                       0.000000     1.604300e+09                   0.000000  \n197                       0.000000     1.604300e+09                   0.000000  \n198                       0.024870     1.604300e+09                   0.000000  \n199                       0.000000     1.604300e+09                   0.000000  \n\n[200 rows x 17 columns]",
      "text/html": "<div>\n<style scoped>\n    .dataframe tbody tr th:only-of-type {\n        vertical-align: middle;\n    }\n\n    .dataframe tbody tr th {\n        vertical-align: top;\n    }\n\n    .dataframe thead th {\n        text-align: right;\n    }\n</style>\n<table border=\"1\" class=\"dataframe\">\n  <thead>\n    <tr style=\"text-align: right;\">\n      <th></th>\n      <th>A.1_Expected Annual Damage</th>\n      <th>A.1_Dike Investment Costs</th>\n      <th>A.1_Expected Number of Deaths</th>\n      <th>A.2_Expected Annual Damage</th>\n      <th>A.2_Dike Investment Costs</th>\n      <th>A.2_Expected Number of Deaths</th>\n      <th>A.3_Expected Annual Damage</th>\n      <th>A.3_Dike Investment Costs</th>\n      <th>A.3_Expected Number of Deaths</th>\n      <th>A.4_Expected Annual Damage</th>\n      <th>A.4_Dike Investment Costs</th>\n      <th>A.4_Expected Number of Deaths</th>\n      <th>A.5_Expected Annual Damage</th>\n      <th>A.5_Dike Investment Costs</th>\n      <th>A.5_Expected Number of Deaths</th>\n      <th>RfR Total Costs</th>\n      <th>Expected Evacuation Costs</th>\n    </tr>\n  </thead>\n  <tbody>\n    <tr>\n      <th>0</th>\n      <td>0.0</td>\n      <td>2.493124e+08</td>\n      <td>0.0</td>\n      <td>0.000000e+00</td>\n      <td>3.603055e+08</td>\n      <td>0.000000</td>\n      <td>0.0</td>\n      <td>8.116230e+07</td>\n      <td>0.0</td>\n      <td>2.353105e+06</td>\n      <td>3.175647e+07</td>\n      <td>0.000210</td>\n      <td>0.000000e+00</td>\n      <td>1.381010e+08</td>\n      <td>0.000000</td>\n      <td>5.831000e+08</td>\n      <td>290.717863</td>\n    </tr>\n    <tr>\n      <th>1</th>\n      <td>0.0</td>\n      <td>2.493124e+08</td>\n      <td>0.0</td>\n      <td>0.000000e+00</td>\n      <td>3.603055e+08</td>\n      <td>0.000000</td>\n      <td>0.0</td>\n      <td>8.116230e+07</td>\n      <td>0.0</td>\n      <td>5.301770e+05</td>\n      <td>3.175647e+07</td>\n      <td>0.000052</td>\n      <td>0.000000e+00</td>\n      <td>1.381010e+08</td>\n      <td>0.000000</td>\n      <td>5.831000e+08</td>\n      <td>60.891236</td>\n    </tr>\n    <tr>\n      <th>2</th>\n      <td>0.0</td>\n      <td>2.493124e+08</td>\n      <td>0.0</td>\n      <td>0.000000e+00</td>\n      <td>3.603055e+08</td>\n      <td>0.000000</td>\n      <td>0.0</td>\n      <td>8.116230e+07</td>\n      <td>0.0</td>\n      <td>0.000000e+00</td>\n      <td>3.175647e+07</td>\n      <td>0.000000</td>\n      <td>0.000000e+00</td>\n      <td>1.381010e+08</td>\n      <td>0.000000</td>\n      <td>5.831000e+08</td>\n      <td>0.000000</td>\n    </tr>\n    <tr>\n      <th>3</th>\n      <td>0.0</td>\n      <td>2.493124e+08</td>\n      <td>0.0</td>\n      <td>0.000000e+00</td>\n      <td>3.603055e+08</td>\n      <td>0.000000</td>\n      <td>0.0</td>\n      <td>8.116230e+07</td>\n      <td>0.0</td>\n      <td>0.000000e+00</td>\n      <td>3.175647e+07</td>\n      <td>0.000000</td>\n      <td>0.000000e+00</td>\n      <td>1.381010e+08</td>\n      <td>0.000000</td>\n      <td>5.831000e+08</td>\n      <td>0.000000</td>\n    </tr>\n    <tr>\n      <th>4</th>\n      <td>0.0</td>\n      <td>2.493124e+08</td>\n      <td>0.0</td>\n      <td>0.000000e+00</td>\n      <td>3.603055e+08</td>\n      <td>0.000000</td>\n      <td>0.0</td>\n      <td>8.116230e+07</td>\n      <td>0.0</td>\n      <td>1.636771e+07</td>\n      <td>3.175647e+07</td>\n      <td>0.000662</td>\n      <td>0.000000e+00</td>\n      <td>1.381010e+08</td>\n      <td>0.000000</td>\n      <td>5.831000e+08</td>\n      <td>1081.333087</td>\n    </tr>\n    <tr>\n      <th>...</th>\n      <td>...</td>\n      <td>...</td>\n      <td>...</td>\n      <td>...</td>\n      <td>...</td>\n      <td>...</td>\n      <td>...</td>\n      <td>...</td>\n      <td>...</td>\n      <td>...</td>\n      <td>...</td>\n      <td>...</td>\n      <td>...</td>\n      <td>...</td>\n      <td>...</td>\n      <td>...</td>\n      <td>...</td>\n    </tr>\n    <tr>\n      <th>195</th>\n      <td>0.0</td>\n      <td>2.621674e+08</td>\n      <td>0.0</td>\n      <td>0.000000e+00</td>\n      <td>1.296885e+08</td>\n      <td>0.000000</td>\n      <td>0.0</td>\n      <td>1.087736e+08</td>\n      <td>0.0</td>\n      <td>2.044269e+06</td>\n      <td>2.508488e+07</td>\n      <td>0.001317</td>\n      <td>2.349402e+08</td>\n      <td>1.238379e+08</td>\n      <td>0.283046</td>\n      <td>1.604300e+09</td>\n      <td>0.000000</td>\n    </tr>\n    <tr>\n      <th>196</th>\n      <td>0.0</td>\n      <td>2.621674e+08</td>\n      <td>0.0</td>\n      <td>0.000000e+00</td>\n      <td>1.296885e+08</td>\n      <td>0.000000</td>\n      <td>0.0</td>\n      <td>1.087736e+08</td>\n      <td>0.0</td>\n      <td>2.400314e+07</td>\n      <td>2.508488e+07</td>\n      <td>0.011196</td>\n      <td>0.000000e+00</td>\n      <td>1.238379e+08</td>\n      <td>0.000000</td>\n      <td>1.604300e+09</td>\n      <td>0.000000</td>\n    </tr>\n    <tr>\n      <th>197</th>\n      <td>0.0</td>\n      <td>2.621674e+08</td>\n      <td>0.0</td>\n      <td>2.809947e+06</td>\n      <td>1.296885e+08</td>\n      <td>0.002625</td>\n      <td>0.0</td>\n      <td>1.087736e+08</td>\n      <td>0.0</td>\n      <td>1.503912e+05</td>\n      <td>2.508488e+07</td>\n      <td>0.000069</td>\n      <td>0.000000e+00</td>\n      <td>1.238379e+08</td>\n      <td>0.000000</td>\n      <td>1.604300e+09</td>\n      <td>0.000000</td>\n    </tr>\n    <tr>\n      <th>198</th>\n      <td>0.0</td>\n      <td>2.621674e+08</td>\n      <td>0.0</td>\n      <td>0.000000e+00</td>\n      <td>1.296885e+08</td>\n      <td>0.000000</td>\n      <td>0.0</td>\n      <td>1.087736e+08</td>\n      <td>0.0</td>\n      <td>2.703251e+06</td>\n      <td>2.508488e+07</td>\n      <td>0.001038</td>\n      <td>3.640854e+07</td>\n      <td>1.238379e+08</td>\n      <td>0.024870</td>\n      <td>1.604300e+09</td>\n      <td>0.000000</td>\n    </tr>\n    <tr>\n      <th>199</th>\n      <td>0.0</td>\n      <td>2.621674e+08</td>\n      <td>0.0</td>\n      <td>0.000000e+00</td>\n      <td>1.296885e+08</td>\n      <td>0.000000</td>\n      <td>0.0</td>\n      <td>1.087736e+08</td>\n      <td>0.0</td>\n      <td>5.247045e+06</td>\n      <td>2.508488e+07</td>\n      <td>0.002495</td>\n      <td>0.000000e+00</td>\n      <td>1.238379e+08</td>\n      <td>0.000000</td>\n      <td>1.604300e+09</td>\n      <td>0.000000</td>\n    </tr>\n  </tbody>\n</table>\n<p>200 rows × 17 columns</p>\n</div>"
     },
     "execution_count": 9,
     "metadata": {},
     "output_type": "execute_result"
    }
   ],
   "source": [
    "# only works because we have scalar outcomes\n",
    "pd.DataFrame(outcomes)"
   ]
  },
  {
   "cell_type": "code",
   "execution_count": 10,
   "metadata": {
    "ExecuteTime": {
     "end_time": "2024-06-21T12:53:43.757587400Z",
     "start_time": "2024-06-21T12:53:43.689468300Z"
    }
   },
   "outputs": [],
   "source": [
    "# defining specific policies\n",
    "# for example, policy 1 is about extra protection in upper boundary\n",
    "# policy 2 is about extra protection in lower boundary\n",
    "# policy 3 is extra protection in random locations\n",
    "\n",
    "\n",
    "def get_do_nothing_dict():\n",
    "    return {l.name: 0 for l in dike_model.levers}\n",
    "\n",
    "\n",
    "policies = [\n",
    "    Policy(\n",
    "        \"policy 1\",\n",
    "        **dict(\n",
    "            get_do_nothing_dict(),\n",
    "            **{\"0_RfR 0\": 1, \"0_RfR 1\": 1, \"0_RfR 2\": 1, \"A.1_DikeIncrease 0\": 5}\n",
    "        )\n",
    "    ),\n",
    "    Policy(\n",
    "        \"policy 2\",\n",
    "        **dict(\n",
    "            get_do_nothing_dict(),\n",
    "            **{\"4_RfR 0\": 1, \"4_RfR 1\": 1, \"4_RfR 2\": 1, \"A.5_DikeIncrease 0\": 5}\n",
    "        )\n",
    "    ),\n",
    "    Policy(\n",
    "        \"policy 3\",\n",
    "        **dict(\n",
    "            get_do_nothing_dict(),\n",
    "            **{\"1_RfR 0\": 1, \"2_RfR 1\": 1, \"3_RfR 2\": 1, \"A.3_DikeIncrease 0\": 5}\n",
    "        )\n",
    "    ),\n",
    "]"
   ]
  },
  {
   "cell_type": "code",
   "execution_count": 11,
   "metadata": {
    "ExecuteTime": {
     "end_time": "2024-06-21T12:55:41.460402100Z",
     "start_time": "2024-06-21T12:53:43.700242500Z"
    }
   },
   "outputs": [
    {
     "name": "stderr",
     "output_type": "stream",
     "text": [
      "[MainProcess/INFO] pool started with 12 workers\n",
      "[MainProcess/INFO] performing 100 scenarios * 3 policies * 1 model(s) = 300 experiments\n",
      "100%|████████████████████████████████████████| 300/300 [01:11<00:00,  4.17it/s]\n",
      "[MainProcess/INFO] experiments finished\n",
      "[MainProcess/INFO] terminating pool\n"
     ]
    }
   ],
   "source": [
    "# pass the policies list to EMA workbench experiment runs\n",
    "n_scenarios = 100\n",
    "with MultiprocessingEvaluator(dike_model) as evaluator:\n",
    "    results = evaluator.perform_experiments(n_scenarios, policies)"
   ]
  },
  {
   "cell_type": "code",
   "execution_count": 12,
   "metadata": {
    "ExecuteTime": {
     "end_time": "2024-06-21T12:55:41.467840900Z",
     "start_time": "2024-06-21T12:55:41.463976100Z"
    }
   },
   "outputs": [],
   "source": [
    "experiments, outcomes = results"
   ]
  },
  {
   "cell_type": "code",
   "execution_count": 13,
   "metadata": {
    "ExecuteTime": {
     "end_time": "2024-06-21T12:55:41.512288700Z",
     "start_time": "2024-06-21T12:55:41.471196100Z"
    }
   },
   "outputs": [
    {
     "data": {
      "text/plain": "     A.1_Expected Annual Damage  A.1_Dike Investment Costs  \\\n0                  0.000000e+00               5.397251e+07   \n1                  0.000000e+00               5.397251e+07   \n2                  0.000000e+00               5.397251e+07   \n3                  0.000000e+00               5.397251e+07   \n4                  0.000000e+00               5.397251e+07   \n..                          ...                        ...   \n295                2.621271e+09               0.000000e+00   \n296                0.000000e+00               0.000000e+00   \n297                3.526398e+07               0.000000e+00   \n298                6.188425e+08               0.000000e+00   \n299                2.621579e+09               0.000000e+00   \n\n     A.1_Expected Number of Deaths  A.2_Expected Annual Damage  \\\n0                         0.000000                1.317719e+08   \n1                         0.000000                2.270063e+07   \n2                         0.000000                1.219053e+08   \n3                         0.000000                3.849534e+07   \n4                         0.000000                2.306686e+07   \n..                             ...                         ...   \n295                       1.559781                5.283917e+07   \n296                       0.000000                2.407866e+07   \n297                       0.020064                1.621213e+08   \n298                       0.495184                0.000000e+00   \n299                       1.560020                7.197894e+06   \n\n     A.2_Dike Investment Costs  A.2_Expected Number of Deaths  \\\n0                            0                       0.134468   \n1                            0                       0.023493   \n2                            0                       0.134910   \n3                            0                       0.040858   \n4                            0                       0.024218   \n..                         ...                            ...   \n295                          0                       0.045636   \n296                          0                       0.022935   \n297                          0                       0.126661   \n298                          0                       0.000000   \n299                          0                       0.005842   \n\n     A.3_Expected Annual Damage  A.3_Dike Investment Costs  \\\n0                  0.000000e+00                          0   \n1                  1.887067e+09                          0   \n2                  1.696268e+09                          0   \n3                  2.737514e+07                          0   \n4                  7.636688e+07                          0   \n..                          ...                        ...   \n295                0.000000e+00                   28798397   \n296                0.000000e+00                   28798397   \n297                0.000000e+00                   28798397   \n298                0.000000e+00                   28798397   \n299                0.000000e+00                   28798397   \n\n     A.3_Expected Number of Deaths  A.4_Expected Annual Damage  \\\n0                         0.000000                6.730199e+07   \n1                         3.341342                0.000000e+00   \n2                         3.379930                2.089206e+06   \n3                         0.055017                8.617574e+06   \n4                         0.147621                8.056674e+07   \n..                             ...                         ...   \n295                       0.000000                2.331860e+07   \n296                       0.000000                9.813618e+07   \n297                       0.000000                0.000000e+00   \n298                       0.000000                5.251766e+06   \n299                       0.000000                0.000000e+00   \n\n     A.4_Dike Investment Costs  A.4_Expected Number of Deaths  \\\n0                            0                       0.033306   \n1                            0                       0.000000   \n2                            0                       0.001135   \n3                            0                       0.004986   \n4                            0                       0.040150   \n..                         ...                            ...   \n295                          0                       0.009891   \n296                          0                       0.042222   \n297                          0                       0.000000   \n298                          0                       0.002960   \n299                          0                       0.000000   \n\n     A.5_Expected Annual Damage  A.5_Dike Investment Costs  \\\n0                  0.000000e+00                          0   \n1                  0.000000e+00                          0   \n2                  0.000000e+00                          0   \n3                  4.280958e+07                          0   \n4                  2.738102e+08                          0   \n..                          ...                        ...   \n295                0.000000e+00                          0   \n296                0.000000e+00                          0   \n297                6.229320e+07                          0   \n298                0.000000e+00                          0   \n299                0.000000e+00                          0   \n\n     A.5_Expected Number of Deaths  RfR Total Costs  Expected Evacuation Costs  \n0                         0.000000      253800000.0                        0.0  \n1                         0.000000      253800000.0                        0.0  \n2                         0.000000      253800000.0                        0.0  \n3                         0.043140      253800000.0                        0.0  \n4                         0.254673      253800000.0                        0.0  \n..                             ...              ...                        ...  \n295                       0.000000      369700000.0                        0.0  \n296                       0.000000      369700000.0                        0.0  \n297                       0.046865      369700000.0                        0.0  \n298                       0.000000      369700000.0                        0.0  \n299                       0.000000      369700000.0                        0.0  \n\n[300 rows x 17 columns]",
      "text/html": "<div>\n<style scoped>\n    .dataframe tbody tr th:only-of-type {\n        vertical-align: middle;\n    }\n\n    .dataframe tbody tr th {\n        vertical-align: top;\n    }\n\n    .dataframe thead th {\n        text-align: right;\n    }\n</style>\n<table border=\"1\" class=\"dataframe\">\n  <thead>\n    <tr style=\"text-align: right;\">\n      <th></th>\n      <th>A.1_Expected Annual Damage</th>\n      <th>A.1_Dike Investment Costs</th>\n      <th>A.1_Expected Number of Deaths</th>\n      <th>A.2_Expected Annual Damage</th>\n      <th>A.2_Dike Investment Costs</th>\n      <th>A.2_Expected Number of Deaths</th>\n      <th>A.3_Expected Annual Damage</th>\n      <th>A.3_Dike Investment Costs</th>\n      <th>A.3_Expected Number of Deaths</th>\n      <th>A.4_Expected Annual Damage</th>\n      <th>A.4_Dike Investment Costs</th>\n      <th>A.4_Expected Number of Deaths</th>\n      <th>A.5_Expected Annual Damage</th>\n      <th>A.5_Dike Investment Costs</th>\n      <th>A.5_Expected Number of Deaths</th>\n      <th>RfR Total Costs</th>\n      <th>Expected Evacuation Costs</th>\n    </tr>\n  </thead>\n  <tbody>\n    <tr>\n      <th>0</th>\n      <td>0.000000e+00</td>\n      <td>5.397251e+07</td>\n      <td>0.000000</td>\n      <td>1.317719e+08</td>\n      <td>0</td>\n      <td>0.134468</td>\n      <td>0.000000e+00</td>\n      <td>0</td>\n      <td>0.000000</td>\n      <td>6.730199e+07</td>\n      <td>0</td>\n      <td>0.033306</td>\n      <td>0.000000e+00</td>\n      <td>0</td>\n      <td>0.000000</td>\n      <td>253800000.0</td>\n      <td>0.0</td>\n    </tr>\n    <tr>\n      <th>1</th>\n      <td>0.000000e+00</td>\n      <td>5.397251e+07</td>\n      <td>0.000000</td>\n      <td>2.270063e+07</td>\n      <td>0</td>\n      <td>0.023493</td>\n      <td>1.887067e+09</td>\n      <td>0</td>\n      <td>3.341342</td>\n      <td>0.000000e+00</td>\n      <td>0</td>\n      <td>0.000000</td>\n      <td>0.000000e+00</td>\n      <td>0</td>\n      <td>0.000000</td>\n      <td>253800000.0</td>\n      <td>0.0</td>\n    </tr>\n    <tr>\n      <th>2</th>\n      <td>0.000000e+00</td>\n      <td>5.397251e+07</td>\n      <td>0.000000</td>\n      <td>1.219053e+08</td>\n      <td>0</td>\n      <td>0.134910</td>\n      <td>1.696268e+09</td>\n      <td>0</td>\n      <td>3.379930</td>\n      <td>2.089206e+06</td>\n      <td>0</td>\n      <td>0.001135</td>\n      <td>0.000000e+00</td>\n      <td>0</td>\n      <td>0.000000</td>\n      <td>253800000.0</td>\n      <td>0.0</td>\n    </tr>\n    <tr>\n      <th>3</th>\n      <td>0.000000e+00</td>\n      <td>5.397251e+07</td>\n      <td>0.000000</td>\n      <td>3.849534e+07</td>\n      <td>0</td>\n      <td>0.040858</td>\n      <td>2.737514e+07</td>\n      <td>0</td>\n      <td>0.055017</td>\n      <td>8.617574e+06</td>\n      <td>0</td>\n      <td>0.004986</td>\n      <td>4.280958e+07</td>\n      <td>0</td>\n      <td>0.043140</td>\n      <td>253800000.0</td>\n      <td>0.0</td>\n    </tr>\n    <tr>\n      <th>4</th>\n      <td>0.000000e+00</td>\n      <td>5.397251e+07</td>\n      <td>0.000000</td>\n      <td>2.306686e+07</td>\n      <td>0</td>\n      <td>0.024218</td>\n      <td>7.636688e+07</td>\n      <td>0</td>\n      <td>0.147621</td>\n      <td>8.056674e+07</td>\n      <td>0</td>\n      <td>0.040150</td>\n      <td>2.738102e+08</td>\n      <td>0</td>\n      <td>0.254673</td>\n      <td>253800000.0</td>\n      <td>0.0</td>\n    </tr>\n    <tr>\n      <th>...</th>\n      <td>...</td>\n      <td>...</td>\n      <td>...</td>\n      <td>...</td>\n      <td>...</td>\n      <td>...</td>\n      <td>...</td>\n      <td>...</td>\n      <td>...</td>\n      <td>...</td>\n      <td>...</td>\n      <td>...</td>\n      <td>...</td>\n      <td>...</td>\n      <td>...</td>\n      <td>...</td>\n      <td>...</td>\n    </tr>\n    <tr>\n      <th>295</th>\n      <td>2.621271e+09</td>\n      <td>0.000000e+00</td>\n      <td>1.559781</td>\n      <td>5.283917e+07</td>\n      <td>0</td>\n      <td>0.045636</td>\n      <td>0.000000e+00</td>\n      <td>28798397</td>\n      <td>0.000000</td>\n      <td>2.331860e+07</td>\n      <td>0</td>\n      <td>0.009891</td>\n      <td>0.000000e+00</td>\n      <td>0</td>\n      <td>0.000000</td>\n      <td>369700000.0</td>\n      <td>0.0</td>\n    </tr>\n    <tr>\n      <th>296</th>\n      <td>0.000000e+00</td>\n      <td>0.000000e+00</td>\n      <td>0.000000</td>\n      <td>2.407866e+07</td>\n      <td>0</td>\n      <td>0.022935</td>\n      <td>0.000000e+00</td>\n      <td>28798397</td>\n      <td>0.000000</td>\n      <td>9.813618e+07</td>\n      <td>0</td>\n      <td>0.042222</td>\n      <td>0.000000e+00</td>\n      <td>0</td>\n      <td>0.000000</td>\n      <td>369700000.0</td>\n      <td>0.0</td>\n    </tr>\n    <tr>\n      <th>297</th>\n      <td>3.526398e+07</td>\n      <td>0.000000e+00</td>\n      <td>0.020064</td>\n      <td>1.621213e+08</td>\n      <td>0</td>\n      <td>0.126661</td>\n      <td>0.000000e+00</td>\n      <td>28798397</td>\n      <td>0.000000</td>\n      <td>0.000000e+00</td>\n      <td>0</td>\n      <td>0.000000</td>\n      <td>6.229320e+07</td>\n      <td>0</td>\n      <td>0.046865</td>\n      <td>369700000.0</td>\n      <td>0.0</td>\n    </tr>\n    <tr>\n      <th>298</th>\n      <td>6.188425e+08</td>\n      <td>0.000000e+00</td>\n      <td>0.495184</td>\n      <td>0.000000e+00</td>\n      <td>0</td>\n      <td>0.000000</td>\n      <td>0.000000e+00</td>\n      <td>28798397</td>\n      <td>0.000000</td>\n      <td>5.251766e+06</td>\n      <td>0</td>\n      <td>0.002960</td>\n      <td>0.000000e+00</td>\n      <td>0</td>\n      <td>0.000000</td>\n      <td>369700000.0</td>\n      <td>0.0</td>\n    </tr>\n    <tr>\n      <th>299</th>\n      <td>2.621579e+09</td>\n      <td>0.000000e+00</td>\n      <td>1.560020</td>\n      <td>7.197894e+06</td>\n      <td>0</td>\n      <td>0.005842</td>\n      <td>0.000000e+00</td>\n      <td>28798397</td>\n      <td>0.000000</td>\n      <td>0.000000e+00</td>\n      <td>0</td>\n      <td>0.000000</td>\n      <td>0.000000e+00</td>\n      <td>0</td>\n      <td>0.000000</td>\n      <td>369700000.0</td>\n      <td>0.0</td>\n    </tr>\n  </tbody>\n</table>\n<p>300 rows × 17 columns</p>\n</div>"
     },
     "execution_count": 13,
     "metadata": {},
     "output_type": "execute_result"
    }
   ],
   "source": [
    "# only works because we have scalar outcomes\n",
    "pd.DataFrame(outcomes)"
   ]
  },
  {
   "cell_type": "code",
   "execution_count": 13,
   "metadata": {
    "pycharm": {
     "name": "#%%"
    },
    "ExecuteTime": {
     "end_time": "2024-06-21T12:55:41.514963900Z",
     "start_time": "2024-06-21T12:55:41.512795700Z"
    }
   },
   "outputs": [],
   "source": []
  }
 ],
 "metadata": {
  "kernelspec": {
   "display_name": "Python 3 (ipykernel)",
   "language": "python",
   "name": "python3"
  },
  "language_info": {
   "codemirror_mode": {
    "name": "ipython",
    "version": 3
   },
   "file_extension": ".py",
   "mimetype": "text/x-python",
   "name": "python",
   "nbconvert_exporter": "python",
   "pygments_lexer": "ipython3",
   "version": "3.9.16"
  }
 },
 "nbformat": 4,
 "nbformat_minor": 4
}
